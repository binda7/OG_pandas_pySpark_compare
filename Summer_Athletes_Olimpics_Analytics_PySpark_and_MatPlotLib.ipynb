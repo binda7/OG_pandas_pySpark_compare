{
 "cells": [
  {
   "cell_type": "code",
   "execution_count": 1,
   "metadata": {},
   "outputs": [
    {
     "name": "stderr",
     "output_type": "stream",
     "text": [
      "C:\\Users\\Kamila Nita\\AppData\\Roaming\\Python\\Python39\\site-packages\\pyspark\\pandas\\__init__.py:49: UserWarning: 'PYARROW_IGNORE_TIMEZONE' environment variable was not set. It is required to set this environment variable to '1' in both driver and executor sides if you use pyarrow>=2.0.0. pandas-on-Spark will set it for you but it does not work if there is a Spark context already launched.\n",
      "  warnings.warn(\n"
     ]
    }
   ],
   "source": [
    "import numpy as np\n",
    "import pyspark.pandas as ps\n",
    "from pyspark.sql import SparkSession\n",
    "import matplotlib.pyplot as plt"
   ]
  },
  {
   "cell_type": "code",
   "execution_count": 2,
   "metadata": {},
   "outputs": [],
   "source": [
    "spark = SparkSession.builder.appName('IO').getOrCreate()"
   ]
  },
  {
   "cell_type": "code",
   "execution_count": 12,
   "metadata": {},
   "outputs": [],
   "source": [
    "summer_athletes = spark.read.csv(\"Athletes_summer_games.csv\", \n",
    "                      header='true', \n",
    "                      inferSchema='true')\n",
    "\n",
    "summer_athletes = summer_athletes.withColumn(\"index_col\", summer_athletes[\"_c0\"]).drop(\"_c0\")"
   ]
  },
  {
   "cell_type": "code",
   "execution_count": 13,
   "metadata": {},
   "outputs": [
    {
     "name": "stdout",
     "output_type": "stream",
     "text": [
      "+--------------------+---+----+--------------+---+-----------+----+------+-----------+----------+--------------------+------+---------+\n",
      "|                Name|Sex| Age|          Team|NOC|      Games|Year|Season|       City|     Sport|               Event| Medal|index_col|\n",
      "+--------------------+---+----+--------------+---+-----------+----+------+-----------+----------+--------------------+------+---------+\n",
      "|           A Dijiang|  M|24.0|         China|CHN|1992 Summer|1992|Summer|  Barcelona|Basketball|Basketball Men's ...|  null|        0|\n",
      "|            A Lamusi|  M|23.0|         China|CHN|2012 Summer|2012|Summer|     London|      Judo|Judo Men's Extra-...|  null|        1|\n",
      "| Gunnar Nielsen Aaby|  M|24.0|       Denmark|DEN|1920 Summer|1920|Summer|  Antwerpen|  Football|Football Men's Fo...|  null|        2|\n",
      "|Edgar Lindenau Aabye|  M|34.0|Denmark/Sweden|DEN|1900 Summer|1900|Summer|      Paris|Tug-Of-War|Tug-Of-War Men's ...|  Gold|        3|\n",
      "|\"Cornelia \"\"Cor\"\"...|  F|18.0|   Netherlands|NED|1932 Summer|1932|Summer|Los Angeles| Athletics|Athletics Women's...|  null|       26|\n",
      "|\"Cornelia \"\"Cor\"\"...|  F|18.0|   Netherlands|NED|1932 Summer|1932|Summer|Los Angeles| Athletics|Athletics Women's...|  null|       27|\n",
      "|\"Einar Ferdinand ...|  M|26.0|       Finland|FIN|1952 Summer|1952|Summer|   Helsinki|  Swimming|Swimming Men's 40...|  null|       29|\n",
      "|   Jyri Tapani Aalto|  M|31.0|       Finland|FIN|2000 Summer|2000|Summer|     Sydney| Badminton|Badminton Men's S...|  null|       31|\n",
      "|  Minna Maarit Aalto|  F|30.0|       Finland|FIN|1996 Summer|1996|Summer|    Atlanta|   Sailing|Sailing Women's W...|  null|       32|\n",
      "|  Minna Maarit Aalto|  F|34.0|       Finland|FIN|2000 Summer|2000|Summer|     Sydney|   Sailing|Sailing Women's W...|  null|       33|\n",
      "|Arvo Ossian Aaltonen|  M|22.0|       Finland|FIN|1912 Summer|1912|Summer|  Stockholm|  Swimming|Swimming Men's 20...|  null|       35|\n",
      "|Arvo Ossian Aaltonen|  M|22.0|       Finland|FIN|1912 Summer|1912|Summer|  Stockholm|  Swimming|Swimming Men's 40...|  null|       36|\n",
      "|Arvo Ossian Aaltonen|  M|30.0|       Finland|FIN|1920 Summer|1920|Summer|  Antwerpen|  Swimming|Swimming Men's 20...|Bronze|       37|\n",
      "|Arvo Ossian Aaltonen|  M|30.0|       Finland|FIN|1920 Summer|1920|Summer|  Antwerpen|  Swimming|Swimming Men's 40...|Bronze|       38|\n",
      "|Arvo Ossian Aaltonen|  M|34.0|       Finland|FIN|1924 Summer|1924|Summer|      Paris|  Swimming|Swimming Men's 20...|  null|       39|\n",
      "|Paavo Johannes Aa...|  M|28.0|       Finland|FIN|1948 Summer|1948|Summer|     London|Gymnastics|Gymnastics Men's ...|Bronze|       41|\n",
      "|Paavo Johannes Aa...|  M|28.0|       Finland|FIN|1948 Summer|1948|Summer|     London|Gymnastics|Gymnastics Men's ...|  Gold|       42|\n",
      "|Paavo Johannes Aa...|  M|28.0|       Finland|FIN|1948 Summer|1948|Summer|     London|Gymnastics|Gymnastics Men's ...|  null|       43|\n",
      "|Paavo Johannes Aa...|  M|28.0|       Finland|FIN|1948 Summer|1948|Summer|     London|Gymnastics|Gymnastics Men's ...|  Gold|       44|\n",
      "|Paavo Johannes Aa...|  M|28.0|       Finland|FIN|1948 Summer|1948|Summer|     London|Gymnastics|Gymnastics Men's ...|  null|       45|\n",
      "+--------------------+---+----+--------------+---+-----------+----+------+-----------+----------+--------------------+------+---------+\n",
      "only showing top 20 rows\n",
      "\n"
     ]
    }
   ],
   "source": [
    "summer_athletes.show()"
   ]
  },
  {
   "cell_type": "code",
   "execution_count": 14,
   "metadata": {},
   "outputs": [
    {
     "name": "stdout",
     "output_type": "stream",
     "text": [
      "root\n",
      " |-- Name: string (nullable = true)\n",
      " |-- Sex: string (nullable = true)\n",
      " |-- Age: string (nullable = true)\n",
      " |-- Team: string (nullable = true)\n",
      " |-- NOC: string (nullable = true)\n",
      " |-- Games: string (nullable = true)\n",
      " |-- Year: string (nullable = true)\n",
      " |-- Season: string (nullable = true)\n",
      " |-- City: string (nullable = true)\n",
      " |-- Sport: string (nullable = true)\n",
      " |-- Event: string (nullable = true)\n",
      " |-- Medal: string (nullable = true)\n",
      " |-- index_col: integer (nullable = true)\n",
      "\n"
     ]
    }
   ],
   "source": [
    "summer_athletes.printSchema()"
   ]
  },
  {
   "cell_type": "code",
   "execution_count": 17,
   "metadata": {},
   "outputs": [
    {
     "name": "stdout",
     "output_type": "stream",
     "text": [
      "Summer Athletes Data Frame shape:  13 . 237673\n"
     ]
    }
   ],
   "source": [
    "num_row = summer_athletes.count()\n",
    "num_col = len(summer_athletes.columns)\n",
    "\n",
    "print(\"Summer Athletes Data Frame shape: \", num_col, \".\", num_row)"
   ]
  },
  {
   "cell_type": "code",
   "execution_count": 20,
   "metadata": {},
   "outputs": [
    {
     "name": "stdout",
     "output_type": "stream",
     "text": [
      "+-------+--------------------+-------------+------------------+--------------------+------------------+-----------+------------------+------------------+------------------+--------------+--------------------+--------------------+------------------+\n",
      "|summary|                Name|          Sex|               Age|                Team|               NOC|      Games|              Year|            Season|              City|         Sport|               Event|               Medal|         index_col|\n",
      "+-------+--------------------+-------------+------------------+--------------------+------------------+-----------+------------------+------------------+------------------+--------------+--------------------+--------------------+------------------+\n",
      "|  count|              237673|       237673|            228486|              237671|            237673|     237673|            237673|            237673|            237673|        237673|              237673|               36871|            237673|\n",
      "|   mean|                null|         null|25.748993235596032|  24.583815028901736|23.142857142857142|       null|1979.1384342912563|1960.4568138195777| 1937.142857142857|          null|                null|                null|126947.99052058921|\n",
      "| stddev|                null|         null|6.6402542496296055|   5.754317507180295|10.302565561201595|       null|31.783837529852086| 25.47907430659598|25.893554998805968|          null|                null|                null|  82093.4601040641|\n",
      "|    min| Eleonora Margari...| -Bakhuizen)\"|       -Andersen)\"|\"Large boat, Cent...|              14.0|1896 Summer|              1896|              1900|              1900|3x3 Basketball|  10m Air Pistol Men|Archery Men's Ind...|                 0|\n",
      "|    max|            zzet nce|            M|                 M|                rn-2|          Zimbabwe|        ZIM|               USA|            Summer|             Tokyo|     Wrestling|Wrestling Women's...|Wrestling Men's W...|            271110|\n",
      "+-------+--------------------+-------------+------------------+--------------------+------------------+-----------+------------------+------------------+------------------+--------------+--------------------+--------------------+------------------+\n",
      "\n"
     ]
    }
   ],
   "source": [
    "desc = summer_athletes.describe()\n",
    "\n",
    "desc.show()"
   ]
  },
  {
   "cell_type": "code",
   "execution_count": 21,
   "metadata": {},
   "outputs": [
    {
     "ename": "NameError",
     "evalue": "name 'count' is not defined",
     "output_type": "error",
     "traceback": [
      "\u001b[1;31m---------------------------------------------------------------------------\u001b[0m",
      "\u001b[1;31mNameError\u001b[0m                                 Traceback (most recent call last)",
      "\u001b[1;32m~\\AppData\\Local\\Temp\\ipykernel_19692\\3320174100.py\u001b[0m in \u001b[0;36m<module>\u001b[1;34m\u001b[0m\n\u001b[1;32m----> 1\u001b[1;33m \u001b[0mcount_value_of_teams\u001b[0m \u001b[1;33m=\u001b[0m \u001b[0msummer_athletes\u001b[0m\u001b[1;33m.\u001b[0m\u001b[0mgroupBy\u001b[0m\u001b[1;33m(\u001b[0m\u001b[1;34m\"Team\"\u001b[0m\u001b[1;33m)\u001b[0m\u001b[1;33m.\u001b[0m\u001b[0magg\u001b[0m\u001b[1;33m(\u001b[0m\u001b[0mcount\u001b[0m\u001b[1;33m(\u001b[0m\u001b[1;34m\"*\"\u001b[0m\u001b[1;33m)\u001b[0m\u001b[1;33m.\u001b[0m\u001b[0malias\u001b[0m\u001b[1;33m(\u001b[0m\u001b[1;34m\"count\"\u001b[0m\u001b[1;33m)\u001b[0m\u001b[1;33m)\u001b[0m\u001b[1;33m\u001b[0m\u001b[1;33m\u001b[0m\u001b[0m\n\u001b[0m",
      "\u001b[1;31mNameError\u001b[0m: name 'count' is not defined"
     ]
    }
   ],
   "source": [
    "count_value_of_teams = summer_athletes.groupBy(\"Team\").agg(count(\"*\").alias(\"count\"))"
   ]
  }
 ],
 "metadata": {
  "kernelspec": {
   "display_name": "base",
   "language": "python",
   "name": "python3"
  },
  "language_info": {
   "codemirror_mode": {
    "name": "ipython",
    "version": 3
   },
   "file_extension": ".py",
   "mimetype": "text/x-python",
   "name": "python",
   "nbconvert_exporter": "python",
   "pygments_lexer": "ipython3",
   "version": "3.9.13"
  },
  "orig_nbformat": 4,
  "vscode": {
   "interpreter": {
    "hash": "ad2bdc8ecc057115af97d19610ffacc2b4e99fae6737bb82f5d7fb13d2f2c186"
   }
  }
 },
 "nbformat": 4,
 "nbformat_minor": 2
}
