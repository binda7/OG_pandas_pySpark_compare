{
 "cells": [
  {
   "cell_type": "code",
   "execution_count": 1,
   "metadata": {},
   "outputs": [],
   "source": [
    "import polars as pl\n",
    "import matplotlib.pyplot as plt\n",
    "import seaborn as sns"
   ]
  },
  {
   "cell_type": "code",
   "execution_count": 2,
   "metadata": {},
   "outputs": [],
   "source": [
    "winter_athletes = pl.read_csv(\"Athletes_winter_games.csv\")"
   ]
  },
  {
   "cell_type": "code",
   "execution_count": 5,
   "metadata": {},
   "outputs": [
    {
     "name": "stdout",
     "output_type": "stream",
     "text": [
      "shape: (5, 13)\n",
      "┌─────┬─────────────────┬─────┬──────┬─────┬─────────────┬───────────────┬─────────────────┬───────┐\n",
      "│     ┆ Name            ┆ Sex ┆ Age  ┆ ... ┆ City        ┆ Sport         ┆ Event           ┆ Medal │\n",
      "│ --- ┆ ---             ┆ --- ┆ ---  ┆     ┆ ---         ┆ ---           ┆ ---             ┆ ---   │\n",
      "│ i64 ┆ str             ┆ str ┆ f64  ┆     ┆ str         ┆ str           ┆ str             ┆ str   │\n",
      "╞═════╪═════════════════╪═════╪══════╪═════╪═════════════╪═══════════════╪═════════════════╪═══════╡\n",
      "│ 4   ┆ Christine       ┆ F   ┆ 21.0 ┆ ... ┆ Calgary     ┆ Speed Skating ┆ Speed Skating   ┆ null  │\n",
      "│     ┆ Jacoba Aaftink  ┆     ┆      ┆     ┆             ┆               ┆ Women's 500     ┆       │\n",
      "│     ┆                 ┆     ┆      ┆     ┆             ┆               ┆ metres          ┆       │\n",
      "│ 5   ┆ Christine       ┆ F   ┆ 21.0 ┆ ... ┆ Calgary     ┆ Speed Skating ┆ Speed Skating   ┆ null  │\n",
      "│     ┆ Jacoba Aaftink  ┆     ┆      ┆     ┆             ┆               ┆ Women's 1,000   ┆       │\n",
      "│     ┆                 ┆     ┆      ┆     ┆             ┆               ┆ metr...         ┆       │\n",
      "│ 6   ┆ Christine       ┆ F   ┆ 25.0 ┆ ... ┆ Albertville ┆ Speed Skating ┆ Speed Skating   ┆ null  │\n",
      "│     ┆ Jacoba Aaftink  ┆     ┆      ┆     ┆             ┆               ┆ Women's 500     ┆       │\n",
      "│     ┆                 ┆     ┆      ┆     ┆             ┆               ┆ metres          ┆       │\n",
      "│ 7   ┆ Christine       ┆ F   ┆ 25.0 ┆ ... ┆ Albertville ┆ Speed Skating ┆ Speed Skating   ┆ null  │\n",
      "│     ┆ Jacoba Aaftink  ┆     ┆      ┆     ┆             ┆               ┆ Women's 1,000   ┆       │\n",
      "│     ┆                 ┆     ┆      ┆     ┆             ┆               ┆ metr...         ┆       │\n",
      "│ 8   ┆ Christine       ┆ F   ┆ 27.0 ┆ ... ┆ Lillehammer ┆ Speed Skating ┆ Speed Skating   ┆ null  │\n",
      "│     ┆ Jacoba Aaftink  ┆     ┆      ┆     ┆             ┆               ┆ Women's 500     ┆       │\n",
      "│     ┆                 ┆     ┆      ┆     ┆             ┆               ┆ metres          ┆       │\n",
      "└─────┴─────────────────┴─────┴──────┴─────┴─────────────┴───────────────┴─────────────────┴───────┘\n"
     ]
    }
   ],
   "source": [
    "print(winter_athletes.limit(5))"
   ]
  },
  {
   "cell_type": "code",
   "execution_count": null,
   "metadata": {},
   "outputs": [],
   "source": [
    "### Work in progres"
   ]
  }
 ],
 "metadata": {
  "kernelspec": {
   "display_name": "base",
   "language": "python",
   "name": "python3"
  },
  "language_info": {
   "codemirror_mode": {
    "name": "ipython",
    "version": 3
   },
   "file_extension": ".py",
   "mimetype": "text/x-python",
   "name": "python",
   "nbconvert_exporter": "python",
   "pygments_lexer": "ipython3",
   "version": "3.9.13"
  },
  "orig_nbformat": 4,
  "vscode": {
   "interpreter": {
    "hash": "ad2bdc8ecc057115af97d19610ffacc2b4e99fae6737bb82f5d7fb13d2f2c186"
   }
  }
 },
 "nbformat": 4,
 "nbformat_minor": 2
}
